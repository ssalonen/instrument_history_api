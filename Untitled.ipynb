{
 "cells": [
  {
   "cell_type": "code",
   "execution_count": 77,
   "metadata": {
    "collapsed": false,
    "deletable": true,
    "editable": true
   },
   "outputs": [
    {
     "name": "stdout",
     "output_type": "stream",
     "text": [
      "Requirement already satisfied: urllib3 in /Users/salsam/.virtualenvs/warc-compression/lib/python3.5/site-packages\n",
      "Requirement already satisfied: requests in /Users/salsam/.virtualenvs/warc-compression/lib/python3.5/site-packages\n",
      "Requirement already satisfied: future in /Users/salsam/.virtualenvs/warc-compression/lib/python3.5/site-packages\n",
      "Requirement already satisfied: warcat in /Users/salsam/.virtualenvs/warc-compression/lib/python3.5/site-packages\n",
      "Collecting django\n",
      "  Downloading Django-1.10.6-py2.py3-none-any.whl (6.8MB)\n",
      "\u001b[K    100% |████████████████████████████████| 6.8MB 158kB/s ta 0:00:01\n",
      "\u001b[?25hCollecting djangorestframework\n",
      "  Downloading djangorestframework-3.5.4-py2.py3-none-any.whl (709kB)\n",
      "\u001b[K    100% |████████████████████████████████| 716kB 403kB/s ta 0:00:01\n",
      "\u001b[?25hRequirement already satisfied: isodate in /Users/salsam/.virtualenvs/warc-compression/lib/python3.5/site-packages (from warcat)\n",
      "Installing collected packages: django, djangorestframework\n",
      "Successfully installed django-1.10.6 djangorestframework-3.5.4\n"
     ]
    }
   ],
   "source": [
    "!pip install urllib3 requests  future warcat django djangorestframework\n",
    "# warc"
   ]
  },
  {
   "cell_type": "code",
   "execution_count": 62,
   "metadata": {
    "collapsed": false
   },
   "outputs": [],
   "source": [
    "from warcat.util import parse_http_response\n",
    "from gzip import GzipFile\n",
    "\n",
    "from requests import Request\n",
    "from requests.adapters import HTTPAdapter\n",
    "\n",
    "_DUMMY_ADAPTER = HTTPAdapter()\n",
    "\n",
    "def response_from_record(record):\n",
    "    url = record.header.fields['WARC-Target-URI']\n",
    "    request = Request()\n",
    "    request.url = url\n",
    "\n",
    "\n",
    "    file_obj = record.content_block.binary_block.get_file()\n",
    "    data = file_obj.read(record.content_block.binary_block.length)\n",
    "    resp = parse_http_response(data)\n",
    "\n",
    "    # Handle decompression for requests\n",
    "    content_file = GzipFile(fileobj=resp.fp) if resp.headers.get('Content-Encoding') == 'gzip' else resp.fp\n",
    "    resp.fp = content_file\n",
    "    req_resp = _DUMMY_ADAPTER.build_response(request, resp)\n",
    "    return req_resp"
   ]
  },
  {
   "cell_type": "code",
   "execution_count": 74,
   "metadata": {
    "collapsed": false
   },
   "outputs": [
    {
     "name": "stderr",
     "output_type": "stream",
     "text": [
      "Content block length changed from 137 to 139\n",
      "Content block length changed from 137 to 139\n",
      "Content block length changed from 137 to 139\n",
      "Content block length changed from 137 to 139\n",
      "Content block length changed from 137 to 139\n",
      "Content block length changed from 137 to 139\n",
      "Content block length changed from 137 to 139\n",
      "Content block length changed from 137 to 139\n",
      "Content block length changed from 137 to 139\n",
      "Content block length changed from 137 to 139\n",
      "Content block length changed from 137 to 139\n",
      "Content block length changed from 137 to 139\n",
      "Content block length changed from 137 to 139\n",
      "Content block length changed from 137 to 139\n",
      "Content block length changed from 137 to 139\n",
      "Content block length changed from 137 to 139\n",
      "Content block length changed from 137 to 139\n",
      "Content block length changed from 137 to 139\n",
      "Content block length changed from 137 to 139\n",
      "Content block length changed from 137 to 139\n",
      "Content block length changed from 137 to 139\n",
      "Content block length changed from 137 to 139\n",
      "Content block length changed from 137 to 139\n",
      "Content block length changed from 137 to 139\n",
      "Content block length changed from 137 to 139\n",
      "Content block length changed from 137 to 139\n",
      "Content block length changed from 137 to 139\n",
      "Content block length changed from 137 to 139\n",
      "Content block length changed from 137 to 139\n",
      "Content block length changed from 137 to 139\n",
      "Content block length changed from 137 to 139\n",
      "Content block length changed from 137 to 139\n",
      "Content block length changed from 137 to 139\n",
      "Content block length changed from 137 to 139\n",
      "Content block length changed from 137 to 139\n",
      "Content block length changed from 137 to 139\n",
      "Content block length changed from 137 to 139\n",
      "Content block length changed from 137 to 139\n",
      "Content block length changed from 137 to 139\n",
      "Content block length changed from 137 to 139\n",
      "Content block length changed from 137 to 139\n"
     ]
    },
    {
     "name": "stdout",
     "output_type": "stream",
     "text": [
      "10 loops, best of 3: 80.4 ms per loop\n"
     ]
    }
   ],
   "source": [
    "import warcat.model\n",
    "warc = warcat.model.WARC()\n",
    "warc.load('./rec-20170205100009719-00287-10-4c4fbd170d47-9001.warc.gz')\n",
    "resp_records = [record \n",
    "                for record in warc.records \n",
    "                    if record.header.fields['WARC-type'] == 'response' and \n",
    "                       record.content_block.fields.status_code]\n",
    "\n",
    "resps = [response_from_record(rec) for rec in resp_records]"
   ]
  },
  {
   "cell_type": "code",
   "execution_count": 76,
   "metadata": {
    "collapsed": false
   },
   "outputs": [
    {
     "data": {
      "text/plain": [
       "5.2"
      ]
     },
     "execution_count": 76,
     "metadata": {},
     "output_type": "execute_result"
    }
   ],
   "source": [
    "3900*80e-3 / 60."
   ]
  },
  {
   "cell_type": "code",
   "execution_count": null,
   "metadata": {
    "collapsed": true,
    "deletable": true,
    "editable": true
   },
   "outputs": [],
   "source": []
  }
 ],
 "metadata": {
  "kernelspec": {
   "display_name": "Python 3",
   "language": "python",
   "name": "python3"
  },
  "language_info": {
   "codemirror_mode": {
    "name": "ipython",
    "version": 3
   },
   "file_extension": ".py",
   "mimetype": "text/x-python",
   "name": "python",
   "nbconvert_exporter": "python",
   "pygments_lexer": "ipython3",
   "version": "3.5.3"
  }
 },
 "nbformat": 4,
 "nbformat_minor": 2
}
